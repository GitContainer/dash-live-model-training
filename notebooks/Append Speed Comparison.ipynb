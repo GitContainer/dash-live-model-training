{
 "cells": [
  {
   "cell_type": "code",
   "execution_count": null,
   "metadata": {},
   "outputs": [],
   "source": [
    "import pandas as pd\n",
    "import numpy as np\n",
    "import random\n",
    "import sys\n",
    "import time"
   ]
  },
  {
   "cell_type": "code",
   "execution_count": null,
   "metadata": {},
   "outputs": [],
   "source": [
    "np.random.seed(50)"
   ]
  },
  {
   "cell_type": "code",
   "execution_count": null,
   "metadata": {},
   "outputs": [],
   "source": [
    "original_arr = np.random.rand(1000000,100)\n",
    "append_ls = np.random.rand(10000,100).tolist()"
   ]
  },
  {
   "cell_type": "code",
   "execution_count": null,
   "metadata": {},
   "outputs": [],
   "source": [
    "big_ls = original_arr.tolist()\n",
    "big_arr = original_arr.copy()\n",
    "big_df = pd.DataFrame(original_arr)"
   ]
  },
  {
   "cell_type": "code",
   "execution_count": null,
   "metadata": {},
   "outputs": [],
   "source": [
    "t_start = time.time()\n",
    "\n",
    "for ls in append_ls:\n",
    "    big_ls.append(ls)\n",
    "\n",
    "t_end = time.time()\n",
    "\n",
    "print(t_end - t_start)"
   ]
  },
  {
   "cell_type": "code",
   "execution_count": null,
   "metadata": {},
   "outputs": [],
   "source": [
    "t_start = time.time()\n",
    "\n",
    "for ls in append_ls:\n",
    "    np.vstack((big_arr, ls))\n",
    "\n",
    "t_end = time.time()\n",
    "\n",
    "print(t_end - t_start)"
   ]
  },
  {
   "cell_type": "code",
   "execution_count": null,
   "metadata": {},
   "outputs": [],
   "source": [
    "%timeit np.vstack((big_arr, np.array(append_ls[0])))\n",
    "\n",
    "%timeit big_df.append(append_ls[0])\n",
    "\n",
    "%timeit big_ls.append(append_ls[0])"
   ]
  },
  {
   "cell_type": "code",
   "execution_count": null,
   "metadata": {},
   "outputs": [],
   "source": [
    "%timeit pd.DataFrame(append_ls)\n",
    "%timeit np.array(append_ls)"
   ]
  },
  {
   "cell_type": "code",
   "execution_count": null,
   "metadata": {},
   "outputs": [],
   "source": [
    "arr = np.random.rand(10000000,1)\n",
    "ls = arr.T.tolist()[0]\n",
    "ls2 = ls.copy()"
   ]
  },
  {
   "cell_type": "code",
   "execution_count": 7,
   "metadata": {},
   "outputs": [],
   "source": [
    "import timeit\n",
    "import numpy as np"
   ]
  },
  {
   "cell_type": "code",
   "execution_count": 13,
   "metadata": {},
   "outputs": [],
   "source": [
    "def compare_append_replace(list_size, seed=2018):\n",
    "    np.random.seed(seed)\n",
    "    arr = np.random.rand(list_size,1)\n",
    "    append_list = arr.T.tolist()[0]\n",
    "    replace_list = append_list.copy()\n",
    "\n",
    "    print(f\"Time taken for appending {list_size} elements:\")\n",
    "    timeit.Timer(f\"for x in range({list_size}): {append_list}.append(x)\").timeit()\n",
    "\n",
    "    print(f\"\\nTime taken to replace {list_size} elements:\")\n",
    "    timeit.Timer(f\"for x in range({list_size}): {replace_list}[x] = x\").timeit()\n",
    "    \n",
    "    print(\"\\n\\n\")"
   ]
  },
  {
   "cell_type": "code",
   "execution_count": null,
   "metadata": {},
   "outputs": [
    {
     "name": "stdout",
     "output_type": "stream",
     "text": [
      "Time taken for appending 10000 elements:\n"
     ]
    }
   ],
   "source": [
    "compare_append_replace(10000)"
   ]
  },
  {
   "cell_type": "code",
   "execution_count": null,
   "metadata": {},
   "outputs": [],
   "source": []
  }
 ],
 "metadata": {
  "kernelspec": {
   "display_name": "Python 3",
   "language": "python",
   "name": "python3"
  },
  "language_info": {
   "codemirror_mode": {
    "name": "ipython",
    "version": 3
   },
   "file_extension": ".py",
   "mimetype": "text/x-python",
   "name": "python",
   "nbconvert_exporter": "python",
   "pygments_lexer": "ipython3",
   "version": "3.6.3"
  }
 },
 "nbformat": 4,
 "nbformat_minor": 2
}
